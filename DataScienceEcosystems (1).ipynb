{
 "cells": [
  {
   "cell_type": "markdown",
   "id": "f0d60c28-43e9-4370-ad49-25c28b29f63e",
   "metadata": {},
   "source": [
    "# Data Science Tools and Ecosystems "
   ]
  },
  {
   "cell_type": "markdown",
   "id": "b51051c8-ec19-4d3a-885e-e47e36303fad",
   "metadata": {},
   "source": [
    "In this notebook, Data Science Tools and Ecosystems are summarised "
   ]
  },
  {
   "cell_type": "markdown",
   "id": "54bdb5ec-4e0c-4e74-9658-80441a9bd531",
   "metadata": {},
   "source": [
    "**Objectives:**\n",
    "* To Cover Data Science Languages \n",
    "* To Cover Data Science Libraries\n",
    "* To Cover Data Science Tools\n",
    "* To Cover Basic Arithematic Operations in Python"
   ]
  },
  {
   "cell_type": "markdown",
   "id": "06e15d4f-ff89-4d2f-b6de-385cc155b6cd",
   "metadata": {},
   "source": [
    "Some of the popular data science languages are: \n",
    "\n",
    "1. Python\n",
    "2. R\n",
    "3. SQL"
   ]
  },
  {
   "cell_type": "markdown",
   "id": "38f31d06-e391-4eea-a434-a4126984b8f6",
   "metadata": {},
   "source": [
    "Some of the commonly used libraries used by Data Scientists include: \n",
    "1. Pandas\n",
    "2. NumPy\n",
    "3. ggplot2 "
   ]
  },
  {
   "cell_type": "markdown",
   "id": "018a8d4a-5574-4f4a-82a8-2718144b2e68",
   "metadata": {},
   "source": [
    "| Data Science Tools|\n",
    "| ------------------|\n",
    "| Git Hub           |\n",
    "| Jupyter Notebook  |\n",
    "| RStudios          | "
   ]
  },
  {
   "cell_type": "markdown",
   "id": "64b1fd6d-73d8-4579-a67f-31876bfebfff",
   "metadata": {},
   "source": [
    "### Below are few exmples of evaluating arethmetic expreions in Pyhton "
   ]
  },
  {
   "cell_type": "code",
   "execution_count": 2,
   "id": "57fa0547-e966-4e3b-a0e2-38ec3e8f86c0",
   "metadata": {},
   "outputs": [
    {
     "data": {
      "text/plain": [
       "17"
      ]
     },
     "execution_count": 2,
     "metadata": {},
     "output_type": "execute_result"
    }
   ],
   "source": [
    "(3*4)+5"
   ]
  },
  {
   "cell_type": "code",
   "execution_count": 6,
   "id": "be52467a-51df-4de8-bbc6-708821051b9d",
   "metadata": {},
   "outputs": [
    {
     "name": "stdout",
     "output_type": "stream",
     "text": [
      "3.3333333333333335\n"
     ]
    }
   ],
   "source": [
    "## This will convert minutes into hours by diving by 60\n",
    "print(200/60)"
   ]
  },
  {
   "cell_type": "markdown",
   "id": "e0273da7-eea4-4e51-9ec2-1b7a778254ed",
   "metadata": {},
   "source": [
    "## Author \n",
    "Shok Gaibnazarov"
   ]
  },
  {
   "cell_type": "code",
   "execution_count": null,
   "id": "65999019-71eb-4f9f-9c8e-d27e0986377e",
   "metadata": {},
   "outputs": [],
   "source": []
  }
 ],
 "metadata": {
  "kernelspec": {
   "display_name": "Python [conda env:base] *",
   "language": "python",
   "name": "conda-base-py"
  },
  "language_info": {
   "codemirror_mode": {
    "name": "ipython",
    "version": 3
   },
   "file_extension": ".py",
   "mimetype": "text/x-python",
   "name": "python",
   "nbconvert_exporter": "python",
   "pygments_lexer": "ipython3",
   "version": "3.13.5"
  }
 },
 "nbformat": 4,
 "nbformat_minor": 5
}
